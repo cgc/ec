{
 "cells": [
  {
   "cell_type": "code",
   "execution_count": 221,
   "metadata": {},
   "outputs": [
    {
     "name": "stdout",
     "output_type": "stream",
     "text": [
      "The autoreload extension is already loaded. To reload it, use:\n",
      "  %reload_ext autoreload\n"
     ]
    }
   ],
   "source": [
    "import sys, joblib\n",
    "sys.path.append('../../..')\n",
    "from grid import *\n",
    "%load_ext autoreload\n",
    "%autoreload 2"
   ]
  },
  {
   "cell_type": "code",
   "execution_count": 222,
   "metadata": {},
   "outputs": [],
   "source": [
    "r = joblib.load('output-taskgrammar-iter2.bin')\n",
    "#r = joblib.load('output-taskpeople_gibbs-iter2.bin')\n",
    "result = r['result']\n",
    "train = r['train']"
   ]
  },
  {
   "cell_type": "code",
   "execution_count": 223,
   "metadata": {},
   "outputs": [
    {
     "name": "stdout",
     "output_type": "stream",
     "text": [
      "CUDA is available?: False\n",
      "using cuda?: False\n"
     ]
    },
    {
     "name": "stderr",
     "output_type": "stream",
     "text": [
      "usage: ipykernel_launcher.py [-h] [--resume RESUME] [-i ITERATIONS] [-t ENUMERATIONTIMEOUT] [-R RECOGNITIONTIMEOUT] [-RS RECOGNITIONSTEPS] [-k TOPK]\n",
      "                             [-p PSEUDOCOUNTS] [-b AIC] [-l STRUCTUREPENALTY] [-a ARITY] [-c CPUS] [--no-cuda] [-m MAXIMUMFRONTIER]\n",
      "                             [--reuseRecognition] [--recognition] [--ensembleSize ENSEMBLESIZE] [-g] [-d] [--no-consolidation]\n",
      "                             [--testingTimeout TESTINGTIMEOUT] [--testEvery TESTEVERY] [--seed SEED] [--activation {relu,sigmoid,tanh}]\n",
      "                             [--solver {ocaml,pypy,python}] [-r HELMHOLTZRATIO] [--compressor {pypy,rust,vs,pypy_vs,ocaml,memorize}]\n",
      "                             [--matrixRank MATRIXRANK] [--mask] [--biasOptimal] [--contextual] [--clear-recognition CLEAR-RECOGNITION]\n",
      "                             [--primitive-graph PRIMITIVE-GRAPH [PRIMITIVE-GRAPH ...]] [--taskBatchSize TASKBATCHSIZE]\n",
      "                             [--taskReranker {default,random,randomShuffle,unsolved,unsolvedEntropy,unsolvedRandomEntropy,randomkNN,randomLowEntropykNN}]\n",
      "                             [--storeTaskMetrics] [--rewriteTaskMetrics] [--addTaskMetrics ADDTASKMETRICS [ADDTASKMETRICS ...]] [--auxiliary]\n",
      "                             [--addFullTaskMetrics] [--countParameters COUNTPARAMETERS]\n",
      "ipykernel_launcher.py: error: unrecognized arguments: -f /Users/carlos/Library/Jupyter/runtime/kernel-3a5e9c11-a2fa-4b96-8c49-e6d06987b1ea.json\n"
     ]
    },
    {
     "ename": "SystemExit",
     "evalue": "2",
     "output_type": "error",
     "traceback": [
      "An exception has occurred, use %tb to see the full traceback.\n",
      "\u001b[0;31mSystemExit\u001b[0m\u001b[0;31m:\u001b[0m 2\n"
     ]
    }
   ],
   "source": [
    "train = list(tasks_from_grammar_boards())\n",
    "test = train\n",
    "\n",
    "g0 = Grammar.uniform(\n",
    "    primitives,\n",
    "    # when doing grid_cont instead, we only consider $0\n",
    "    # but when we only have type=tgrid_cont, then we get a nicer library for tree_tasks()\n",
    "    continuationType=arrow(tgrid_cont,tgrid_cont))\n",
    "arguments = commandlineArguments(\n",
    "    #iterations=1,\n",
    "    #enumerationTimeout=1,\n",
    "    #maximumFrontier=10,\n",
    "    enumerationTimeout=30,\n",
    "    solver='ocaml',\n",
    "    compressor=\"ocaml\",\n",
    "    activation='tanh',\n",
    "    iterations=3, recognitionTimeout=3600,\n",
    "    # TODO what does this arity do? seems to relate to grammar?\n",
    "    a=3,\n",
    "    maximumFrontier=10, topK=2, pseudoCounts=30.0,\n",
    "    helmholtzRatio=0.5, structurePenalty=1.,\n",
    "    CPUs=1,\n",
    ")\n",
    "\n",
    "generator = ecIterator(g0, train, testingTasks=test, **arguments)\n",
    "for result in generator:\n",
    "    break\n"
   ]
  },
  {
   "cell_type": "markdown",
   "metadata": {},
   "source": [
    "# Now rendering tasks."
   ]
  },
  {
   "cell_type": "code",
   "execution_count": 233,
   "metadata": {},
   "outputs": [],
   "source": [
    "import matplotlib.pyplot as plt\n",
    "%matplotlib inline\n",
    "\n",
    "def env_rect(grid, facecolor=\"none\", edgecolor=\"k\", linewidth=0.5):\n",
    "    return [\n",
    "        (\n",
    "            s,\n",
    "            plt.Rectangle((s[0]-0.5, s[1]-0.5), 1, 1, linewidth=linewidth, facecolor=facecolor, edgecolor=edgecolor),\n",
    "        )\n",
    "        for s in np.ndindex(grid.shape)\n",
    "    ]"
   ]
  },
  {
   "cell_type": "code",
   "execution_count": 234,
   "metadata": {},
   "outputs": [
    {
     "data": {
      "image/png": "[encoded data removed]",
      "text/plain": [
       "<Figure size 216x216 with 1 Axes>"
      ]
     },
     "metadata": {
      "image/png": {
       "height": 180,
       "width": 185
      }
     },
     "output_type": "display_data"
    }
   ],
   "source": [
    "def showtask(start, end, history=None, *, size=3, ax=None):\n",
    "    w, h = start.shape\n",
    "    asp = w/h\n",
    "    if ax is None:\n",
    "        _, ax = plt.subplots(figsize=(size*asp, size))\n",
    "    ax.set(\n",
    "        xticks=[],\n",
    "        yticks=[],\n",
    "        xlim=[-1/2, w-1/2],\n",
    "        ylim=[-1/2, h-1/2],\n",
    "    )\n",
    "    for xy, r in env_rect(start):\n",
    "        if start[xy]:\n",
    "            r.set_facecolor('blue')\n",
    "        elif end[xy]:\n",
    "            r.set_facecolor('green')\n",
    "        ax.add_artist(r)\n",
    "    if history:\n",
    "        for prev, curr in zip(history[:-1], history[1:]):\n",
    "            ax.plot(\n",
    "                [prev['location'][0], curr['location'][0]],\n",
    "                [prev['location'][1], curr['location'][1]],\n",
    "                c='k')\n",
    "task = next(tasks_from_grammar_boards())\n",
    "_g0 = Grammar.uniform(primitives, continuationType=arrow(tgrid_cont,tgrid_cont))\n",
    "s = executeGrid(_g0.sample(_g0.continuationType), GridState(task.start, task.location, history=[]))\n",
    "showtask(task.start, task.goal, s.history)"
   ]
  },
  {
   "cell_type": "code",
   "execution_count": 235,
   "metadata": {},
   "outputs": [
    {
     "data": {
      "image/png": "[encoded data removed]",
      "text/plain": [
       "<Figure size 432x72 with 6 Axes>"
      ]
     },
     "metadata": {
      "image/png": {
       "height": 72,
       "width": 352
      }
     },
     "output_type": "display_data"
    }
   ],
   "source": [
    "def show_trace(start, final_state):\n",
    "    h = final_state.history\n",
    "\n",
    "    f, axes = plt.subplots(1, len(h), figsize=(len(h), 1))\n",
    "    for i, ax in enumerate(axes):\n",
    "        h_so_far = h[:i+1]\n",
    "        assert len(h_so_far) == i+1\n",
    "        last_state = h_so_far[-1]\n",
    "        showtask(start, last_state['grid'], h_so_far, ax=ax)\n",
    "        #m = ['^', '>', 'v', '<'] # actually is rotate clockwise 90deg from this\n",
    "        m = ['<', '^', '>', 'v'][last_state['orientation']]\n",
    "        ax.scatter(*last_state['location'], c='r', zorder=2, marker=m, s=400/start.shape[0])\n",
    "\n",
    "show_trace(task.start, s)"
   ]
  },
  {
   "cell_type": "markdown",
   "metadata": {},
   "source": [
    "# showing all solutions"
   ]
  },
  {
   "cell_type": "code",
   "execution_count": 236,
   "metadata": {
    "tags": []
   },
   "outputs": [
    {
     "ename": "AssertionError",
     "evalue": "",
     "output_type": "error",
     "traceback": [
      "\u001b[0;31m---------------------------------------------------------------------------\u001b[0m",
      "\u001b[0;31mAssertionError\u001b[0m                            Traceback (most recent call last)",
      "\u001b[0;32m<ipython-input-236-be0fdfffaddc>\u001b[0m in \u001b[0;36m<module>\u001b[0;34m\u001b[0m\n\u001b[1;32m      9\u001b[0m     \u001b[0mfe\u001b[0m \u001b[0;34m=\u001b[0m \u001b[0mmax\u001b[0m\u001b[0;34m(\u001b[0m\u001b[0mes\u001b[0m\u001b[0;34m,\u001b[0m \u001b[0mkey\u001b[0m\u001b[0;34m=\u001b[0m\u001b[0;32mlambda\u001b[0m \u001b[0me\u001b[0m\u001b[0;34m:\u001b[0m \u001b[0me\u001b[0m\u001b[0;34m.\u001b[0m\u001b[0mlogPrior\u001b[0m\u001b[0;34m)\u001b[0m \u001b[0;31m# get the best\u001b[0m\u001b[0;34m\u001b[0m\u001b[0;34m\u001b[0m\u001b[0m\n\u001b[1;32m     10\u001b[0m     \u001b[0ms\u001b[0m \u001b[0;34m=\u001b[0m \u001b[0mexecuteGrid\u001b[0m\u001b[0;34m(\u001b[0m\u001b[0mfe\u001b[0m\u001b[0;34m.\u001b[0m\u001b[0mprogram\u001b[0m\u001b[0;34m,\u001b[0m \u001b[0mGridState\u001b[0m\u001b[0;34m(\u001b[0m\u001b[0mtask\u001b[0m\u001b[0;34m.\u001b[0m\u001b[0mstart\u001b[0m\u001b[0;34m,\u001b[0m \u001b[0mtask\u001b[0m\u001b[0;34m.\u001b[0m\u001b[0mlocation\u001b[0m\u001b[0;34m,\u001b[0m \u001b[0mhistory\u001b[0m\u001b[0;34m=\u001b[0m\u001b[0;34m[\u001b[0m\u001b[0;34m]\u001b[0m\u001b[0;34m)\u001b[0m\u001b[0;34m)\u001b[0m\u001b[0;34m\u001b[0m\u001b[0;34m\u001b[0m\u001b[0m\n\u001b[0;32m---> 11\u001b[0;31m     \u001b[0;32massert\u001b[0m \u001b[0mnp\u001b[0m\u001b[0;34m.\u001b[0m\u001b[0mall\u001b[0m\u001b[0;34m(\u001b[0m\u001b[0ms\u001b[0m\u001b[0;34m.\u001b[0m\u001b[0mgrid\u001b[0m \u001b[0;34m==\u001b[0m \u001b[0mtask\u001b[0m\u001b[0;34m.\u001b[0m\u001b[0mgoal\u001b[0m\u001b[0;34m)\u001b[0m\u001b[0;34m\u001b[0m\u001b[0;34m\u001b[0m\u001b[0m\n\u001b[0m\u001b[1;32m     12\u001b[0m     \u001b[0mshowtask\u001b[0m\u001b[0;34m(\u001b[0m\u001b[0mtask\u001b[0m\u001b[0;34m.\u001b[0m\u001b[0mstart\u001b[0m\u001b[0;34m,\u001b[0m \u001b[0mtask\u001b[0m\u001b[0;34m.\u001b[0m\u001b[0mgoal\u001b[0m\u001b[0;34m,\u001b[0m \u001b[0ms\u001b[0m\u001b[0;34m.\u001b[0m\u001b[0mhistory\u001b[0m\u001b[0;34m,\u001b[0m \u001b[0max\u001b[0m\u001b[0;34m=\u001b[0m\u001b[0maxes\u001b[0m\u001b[0;34m.\u001b[0m\u001b[0mpop\u001b[0m\u001b[0;34m(\u001b[0m\u001b[0;36m0\u001b[0m\u001b[0;34m)\u001b[0m\u001b[0;34m)\u001b[0m\u001b[0;34m\u001b[0m\u001b[0;34m\u001b[0m\u001b[0m\n\u001b[1;32m     13\u001b[0m     \u001b[0;32mif\u001b[0m \u001b[0;32mnot\u001b[0m \u001b[0maxes\u001b[0m\u001b[0;34m:\u001b[0m\u001b[0;34m\u001b[0m\u001b[0;34m\u001b[0m\u001b[0m\n",
      "\u001b[0;31mAssertionError\u001b[0m: "
     ]
    },
    {
     "data": {
      "image/png": "[encoded data removed]",
      "text/plain": [
       "<Figure size 576x576 with 64 Axes>"
      ]
     },
     "metadata": {
      "image/png": {
       "height": 469,
       "width": 486
      },
      "needs_background": "light"
     },
     "output_type": "display_data"
    }
   ],
   "source": [
    "total = sum(1 for v in result.frontiersOverTime.values() if len(v[-1].entries))\n",
    "f, axes = plt.subplots(8, 8, figsize=(8, 8))\n",
    "axes = axes.flatten().tolist()\n",
    "\n",
    "for task in train:\n",
    "    es = result.frontiersOverTime[task][-1].entries\n",
    "    if not es:\n",
    "        continue\n",
    "    fe = max(es, key=lambda e: e.logPrior) # get the best\n",
    "    s = executeGrid(fe.program, GridState(task.start, task.location, history=[]))\n",
    "    assert np.all(s.grid == task.goal)\n",
    "    showtask(task.start, task.goal, s.history, ax=axes.pop(0))\n",
    "    if not axes:\n",
    "        break"
   ]
  },
  {
   "cell_type": "markdown",
   "metadata": {},
   "source": [
    "# dreams"
   ]
  },
  {
   "cell_type": "code",
   "execution_count": null,
   "metadata": {},
   "outputs": [],
   "source": [
    "def dream_grammar(g):\n",
    "    f, axes = plt.subplots(6, 12, figsize=(12, 6))\n",
    "    axes = axes.flatten().tolist()\n",
    "\n",
    "    #trivial = dreamcoder.program.Abstraction(dreamcoder.program.Index(0))\n",
    "    programs = []\n",
    "\n",
    "    for ax in axes:\n",
    "        start, location = np.array([[0]*5]*5), (2, 2)\n",
    "        start[location] = 1\n",
    "        for _ in range(20):\n",
    "            p = g.sample(g.continuationType)\n",
    "            '''\n",
    "            if p != trivial:\n",
    "                break\n",
    "            '''\n",
    "            s = executeGrid(p, GridState(start, location, history=[]))\n",
    "            if not np.all(start==s.grid):\n",
    "                break\n",
    "        showtask(start, s.grid, s.history, ax=ax)\n",
    "        programs.append(p)\n",
    "\n",
    "dream_grammar(result.grammars[0])"
   ]
  },
  {
   "cell_type": "code",
   "execution_count": null,
   "metadata": {},
   "outputs": [],
   "source": [
    "dream_grammar(result.grammars[1])"
   ]
  },
  {
   "cell_type": "code",
   "execution_count": null,
   "metadata": {},
   "outputs": [],
   "source": [
    "dream_grammar(result.grammars[2])"
   ]
  },
  {
   "cell_type": "code",
   "execution_count": null,
   "metadata": {},
   "outputs": [],
   "source": [
    "dream_grammar(result.grammars[3])"
   ]
  },
  {
   "cell_type": "markdown",
   "metadata": {},
   "source": [
    "# library"
   ]
  },
  {
   "cell_type": "code",
   "execution_count": null,
   "metadata": {},
   "outputs": [],
   "source": [
    "def distinct(idx, grammars):\n",
    "    #prev = {p for g in grammars[:idx] for p in g.primitives}\n",
    "    prev = {p for p in grammars[0].primitives}\n",
    "    return set(grammars[idx].primitives) - prev\n",
    "\n",
    "distinct(2, result.grammars)"
   ]
  },
  {
   "cell_type": "code",
   "execution_count": null,
   "metadata": {},
   "outputs": [],
   "source": [
    "def visualize_functions(fns):\n",
    "    if not fns:\n",
    "        print('No functions')\n",
    "        return\n",
    "\n",
    "    f, axes = plt.subplots(1, len(fns), figsize=(len(fns), 1))\n",
    "\n",
    "    for fn, ax in zip(fns, axes):\n",
    "        start, location = np.array([[0]*7]*7), (3, 3)\n",
    "        start[location] = 1\n",
    "        s = executeGrid(fn, GridState(start, location, history=[]))\n",
    "        showtask(start, s.grid, s.history, ax=ax)\n",
    "\n",
    "visualize_functions(distinct(2, result.grammars))"
   ]
  },
  {
   "cell_type": "code",
   "execution_count": null,
   "metadata": {},
   "outputs": [],
   "source": [
    "for i in range(1, len(result.grammars)):\n",
    "    print(f'library after iteration {i}')\n",
    "    visualize_functions(distinct(i, result.grammars))\n",
    "    plt.show()"
   ]
  },
  {
   "cell_type": "markdown",
   "metadata": {},
   "source": [
    "# visualizing traces of final library"
   ]
  },
  {
   "cell_type": "code",
   "execution_count": null,
   "metadata": {},
   "outputs": [],
   "source": [
    "items = distinct(3, result.grammars)\n",
    "prog_desc_depth = sorted(items, key=lambda fn: len(str(fn).split('#')))\n",
    "fnnames = {}\n",
    "compressed = {}\n",
    "\n",
    "for i, fn in enumerate(prog_desc_depth):\n",
    "    strfn = str(fn)\n",
    "\n",
    "    for subfn in prog_desc_depth[::-1]:\n",
    "        if subfn in fnnames:\n",
    "            strfn = strfn.replace(str(subfn), fnnames[subfn])\n",
    "\n",
    "    fnnames[fn] = f'FN{i}'\n",
    "    compressed[fn] = strfn"
   ]
  },
  {
   "cell_type": "code",
   "execution_count": null,
   "metadata": {},
   "outputs": [],
   "source": [
    "for fn in prog_desc_depth:\n",
    "    start, location = np.array([[0]*7]*7), (3, 3)\n",
    "    start[location] = 1\n",
    "    s = executeGrid(fn, GridState(start, location, history=[]))\n",
    "    print(fnnames[fn], compressed[fn])\n",
    "    show_trace(start, s)\n",
    "    plt.show()"
   ]
  },
  {
   "cell_type": "code",
   "execution_count": null,
   "metadata": {},
   "outputs": [],
   "source": []
  }
 ],
 "metadata": {
  "kernelspec": {
   "display_name": "Python 3",
   "language": "python",
   "name": "python3"
  },
  "language_info": {
   "codemirror_mode": {
    "name": "ipython",
    "version": 3
   },
   "file_extension": ".py",
   "mimetype": "text/x-python",
   "name": "python",
   "nbconvert_exporter": "python",
   "pygments_lexer": "ipython3",
   "version": "3.8.10"
  }
 },
 "nbformat": 4,
 "nbformat_minor": 4
}
